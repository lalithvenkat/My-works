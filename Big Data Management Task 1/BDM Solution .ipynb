{
 "cells": [
  {
   "cell_type": "markdown",
   "metadata": {},
   "source": [
    "#  Big Data Management Assignment 1"
   ]
  },
  {
   "cell_type": "markdown",
   "metadata": {},
   "source": [
    "Importing all sparkcontext, sparkconf,sparksession from pyspark "
   ]
  },
  {
   "cell_type": "code",
   "execution_count": 3,
   "metadata": {},
   "outputs": [],
   "source": [
    "from pyspark import SparkContext, SparkConf \n",
    "from pyspark.sql import SparkSession"
   ]
  },
  {
   "cell_type": "code",
   "execution_count": 4,
   "metadata": {},
   "outputs": [],
   "source": [
    "sc = SparkContext.getOrCreate();"
   ]
  },
  {
   "cell_type": "code",
   "execution_count": 5,
   "metadata": {},
   "outputs": [],
   "source": [
    "spark=SparkSession.builder.getOrCreate()"
   ]
  },
  {
   "cell_type": "code",
   "execution_count": 6,
   "metadata": {},
   "outputs": [],
   "source": [
    "ss= spark"
   ]
  },
  {
   "cell_type": "markdown",
   "metadata": {},
   "source": [
    "### 1) Loading the csv file from the Hdfs file system"
   ]
  },
  {
   "cell_type": "markdown",
   "metadata": {},
   "source": [
    "Loading the csv file from hdfs requires the hadoop services to be started."
   ]
  },
  {
   "cell_type": "code",
   "execution_count": 12,
   "metadata": {},
   "outputs": [],
   "source": [
    "vehicle_records_DF = spark.read.csv(\"hdfs://localhost:9000/user/lalith/data/per-vehicle-records-2021-01-31.csv\", inferSchema = True, header = True)\n"
   ]
  },
  {
   "cell_type": "markdown",
   "metadata": {},
   "source": [
    "A DataFrame vehicle_records_DF has been created with default schema."
   ]
  },
  {
   "cell_type": "code",
   "execution_count": 89,
   "metadata": {},
   "outputs": [
    {
     "name": "stdout",
     "output_type": "stream",
     "text": [
      "+-----+----+-----+---+----+------+------+-----------+-----------+----+--------+------------+----------------+-----+---------+------+-------+----+-----+------+-----------+--------+------------+-------------+-----------+------------+\n",
      "|cosit|year|month|day|hour|minute|second|millisecond|minuteofday|lane|lanename|straddlelane|straddlelanename|class|classname|length|headway| gap|speed|weight|temperature|duration|validitycode|numberofaxles|axleweights|axlespacings|\n",
      "+-----+----+-----+---+----+------+------+-----------+-----------+----+--------+------------+----------------+-----+---------+------+-------+----+-----+------+-----------+--------+------------+-------------+-----------+------------+\n",
      "|  998|2021|    1| 31|   2|    45|     0|          0|        165|   2|    Ch 2|           0|            null|    2|      CAR|   5.2|   1.07|1.13| 71.0|   0.0|        0.0|       0|           0|            0|       null|        null|\n",
      "|  998|2021|    1| 31|   2|    45|     1|          0|        165|   2|    Ch 2|           0|            null|    5|  HGV_RIG|  11.1|    1.1|1.34| 69.0|   0.0|        0.0|       0|           0|            0|       null|        null|\n",
      "|  998|2021|    1| 31|   2|    45|     1|          0|        165|   1|    Ch 1|           0|            null|    5|  HGV_RIG|  11.1|   1.17|1.11| 69.0|   0.0|        0.0|       0|           0|            0|       null|        null|\n",
      "|  998|2021|    1| 31|   2|    45|     2|          0|        165|   1|    Ch 1|           0|            null|    2|      CAR|   5.3|    1.0|0.72| 70.0|   0.0|        0.0|       0|           0|            0|       null|        null|\n",
      "|  998|2021|    1| 31|   2|    45|     3|          0|        165|   2|    Ch 2|           0|            null|    3|      LGV|   5.3|   1.01|0.72| 71.0|   0.0|        0.0|       0|           0|            0|       null|        null|\n",
      "|  998|2021|    1| 31|   2|    45|     4|          0|        165|   1|    Ch 1|           0|            null|    2|      CAR|   5.2|   1.62|1.63| 70.0|   0.0|        0.0|       0|           0|            0|       null|        null|\n",
      "|  998|2021|    1| 31|   2|    45|     5|          0|        165|   2|    Ch 2|           0|            null|    3|      LGV|   5.2|   1.64|1.63| 69.0|   0.0|        0.0|       0|           0|            0|       null|        null|\n",
      "|  998|2021|    1| 31|   2|    45|     6|          0|        165|   1|    Ch 1|           0|            null|    5|  HGV_RIG|  11.4|   1.13|1.53| 70.0|   0.0|        0.0|       0|           0|            0|       null|        null|\n",
      "|  998|2021|    1| 31|   2|    45|     7|          0|        165|   2|    Ch 2|           0|            null|    5|  HGV_RIG|  11.4|   1.39|1.83| 71.0|   0.0|        0.0|       0|           0|            0|       null|        null|\n",
      "|  998|2021|    1| 31|   2|    45|     8|          0|        165|   1|    Ch 1|           0|            null|    5|  HGV_RIG|  11.1|   1.36|1.31| 69.0|   0.0|        0.0|       0|           0|            0|       null|        null|\n",
      "|  998|2021|    1| 31|   2|    45|     8|          0|        165|   2|    Ch 2|           0|            null|    2|      CAR|   5.2|   1.57|1.22| 69.0|   0.0|        0.0|       0|           0|            0|       null|        null|\n",
      "|  998|2021|    1| 31|   2|    45|     9|          0|        165|   1|    Ch 1|           0|            null|    2|      CAR|   5.2|   1.16|0.92| 70.0|   0.0|        0.0|       0|           0|            0|       null|        null|\n",
      "|  998|2021|    1| 31|   2|    45|    10|          0|        165|   2|    Ch 2|           0|            null|    5|  HGV_RIG|  11.5|   1.34|1.63| 71.0|   0.0|        0.0|       0|           0|            0|       null|        null|\n",
      "|  998|2021|    1| 31|   2|    45|    11|          0|        165|   1|    Ch 1|           0|            null|    5|  HGV_RIG|  11.1|   1.72|1.93| 69.0|   0.0|        0.0|       0|           0|            0|       null|        null|\n",
      "|  998|2021|    1| 31|   2|    45|    12|          0|        165|   2|    Ch 2|           0|            null|    2|      CAR|   5.2|   1.34|1.12| 71.0|   0.0|        0.0|       0|           0|            0|       null|        null|\n",
      "|  998|2021|    1| 31|   2|    45|    13|          0|        165|   1|    Ch 1|           0|            null|    2|      CAR|   5.1|   1.17|0.92| 69.0|   0.0|        0.0|       0|           0|            0|       null|        null|\n",
      "|  998|2021|    1| 31|   2|    45|    14|          0|        165|   1|    Ch 1|           0|            null|    2|      CAR|   5.1|   1.28|1.23| 69.0|   0.0|        0.0|       0|           0|            0|       null|        null|\n",
      "|  998|2021|    1| 31|   2|    45|    14|          0|        165|   2|    Ch 2|           0|            null|    5|  HGV_RIG|  11.3|   1.07|1.34| 69.0|   0.0|        0.0|       0|           0|            0|       null|        null|\n",
      "|  998|2021|    1| 31|   2|    45|    15|          0|        165|   1|    Ch 1|           0|            null|    2|      CAR|   5.1|   1.02|1.03| 69.0|   0.0|        0.0|       0|           0|            0|       null|        null|\n",
      "|  998|2021|    1| 31|   2|    45|    16|          0|        165|   2|    Ch 2|           0|            null|    5|  HGV_RIG|  11.5|   1.27|1.31| 71.0|   0.0|        0.0|       0|           0|            0|       null|        null|\n",
      "+-----+----+-----+---+----+------+------+-----------+-----------+----+--------+------------+----------------+-----+---------+------+-------+----+-----+------+-----------+--------+------------+-------------+-----------+------------+\n",
      "only showing top 20 rows\n",
      "\n"
     ]
    }
   ],
   "source": [
    "vehicle_records_DF.show()"
   ]
  },
  {
   "cell_type": "markdown",
   "metadata": {},
   "source": [
    "Count of number of records in the loaded csv file."
   ]
  },
  {
   "cell_type": "code",
   "execution_count": 107,
   "metadata": {},
   "outputs": [
    {
     "data": {
      "text/plain": [
       "1106652"
      ]
     },
     "execution_count": 107,
     "metadata": {},
     "output_type": "execute_result"
    }
   ],
   "source": [
    "vehicle_records_DF.count()"
   ]
  },
  {
   "cell_type": "code",
   "execution_count": 91,
   "metadata": {},
   "outputs": [
    {
     "data": {
      "text/plain": [
       "StructType(List(StructField(cosit,IntegerType,true),StructField(year,IntegerType,true),StructField(month,IntegerType,true),StructField(day,IntegerType,true),StructField(hour,IntegerType,true),StructField(minute,IntegerType,true),StructField(second,IntegerType,true),StructField(millisecond,IntegerType,true),StructField(minuteofday,IntegerType,true),StructField(lane,IntegerType,true),StructField(lanename,StringType,true),StructField(straddlelane,IntegerType,true),StructField(straddlelanename,StringType,true),StructField(class,IntegerType,true),StructField(classname,StringType,true),StructField(length,DoubleType,true),StructField(headway,DoubleType,true),StructField(gap,DoubleType,true),StructField(speed,DoubleType,true),StructField(weight,DoubleType,true),StructField(temperature,DoubleType,true),StructField(duration,IntegerType,true),StructField(validitycode,IntegerType,true),StructField(numberofaxles,IntegerType,true),StructField(axleweights,StringType,true),StructField(axlespacings,StringType,true)))"
      ]
     },
     "execution_count": 91,
     "metadata": {},
     "output_type": "execute_result"
    }
   ],
   "source": [
    "vehicle_records_DF.schema"
   ]
  },
  {
   "cell_type": "code",
   "execution_count": 20,
   "metadata": {},
   "outputs": [
    {
     "data": {
      "text/plain": [
       "pyspark.sql.dataframe.DataFrame"
      ]
     },
     "execution_count": 20,
     "metadata": {},
     "output_type": "execute_result"
    }
   ],
   "source": [
    "type(vehicle_records_DF)"
   ]
  },
  {
   "cell_type": "code",
   "execution_count": null,
   "metadata": {},
   "outputs": [],
   "source": []
  },
  {
   "cell_type": "markdown",
   "metadata": {},
   "source": [
    "Before performing the analysis on the Dataset, Intially we need to filter the dataset by identifying the M50 cosits from  junction 3 to junction 17 as per requirement.\n",
    "\n",
    "Firstly, we need to identify the cosits on m50 highway by refering to the map of irish road traffic data and the dataset.\n",
    "There are 15 counters present on m50 highway out of which 13 counters present in between junction 3 to 17. \n",
    "\n",
    "we need data for only those counters. so let's create a dataframe that contains only the required data by filtering the orginial dataset. "
   ]
  },
  {
   "cell_type": "code",
   "execution_count": 25,
   "metadata": {},
   "outputs": [],
   "source": [
    "cositlist = [1500,1501,1502,1508,1503,1509,1504,1505,1506,1507,15010,15011,15012]\n",
    "\n",
    "m50cositdf = vehicle_records_DF.where(vehicle_records_DF.cosit.isin(cositlist))"
   ]
  },
  {
   "cell_type": "code",
   "execution_count": 26,
   "metadata": {},
   "outputs": [
    {
     "data": {
      "text/plain": [
       "pyspark.sql.dataframe.DataFrame"
      ]
     },
     "execution_count": 26,
     "metadata": {},
     "output_type": "execute_result"
    }
   ],
   "source": [
    "type(m50cositdf)"
   ]
  },
  {
   "cell_type": "code",
   "execution_count": null,
   "metadata": {},
   "outputs": [],
   "source": [
    "The below dataframe consists of records for only m50 counters between junction 3 to junction 17"
   ]
  },
  {
   "cell_type": "code",
   "execution_count": 27,
   "metadata": {},
   "outputs": [
    {
     "name": "stdout",
     "output_type": "stream",
     "text": [
      "+-----+----+-----+---+----+------+------+-----------+-----------+----+------------+------------+----------------+-----+---------+------+-------+------+-----+------+-----------+--------+------------+-------------+-----------+------------+\n",
      "|cosit|year|month|day|hour|minute|second|millisecond|minuteofday|lane|    lanename|straddlelane|straddlelanename|class|classname|length|headway|   gap|speed|weight|temperature|duration|validitycode|numberofaxles|axleweights|axlespacings|\n",
      "+-----+----+-----+---+----+------+------+-----------+-----------+----+------------+------------+----------------+-----+---------+------+-------+------+-----+------+-----------+--------+------------+-------------+-----------+------------+\n",
      "| 1500|2021|    1| 31|   2|    45|     7|          0|        165|   2|Northbound 2|           0|            null|    3|      LGV|   5.1|  233.7|233.53|101.0|   0.0|        0.0|       0|           0|            0|       null|        null|\n",
      "| 1500|2021|    1| 31|   2|    45|    16|          0|        165|   2|Northbound 2|           0|            null|    5|  HGV_RIG|   9.6|    8.3|  8.12| 90.0|   0.0|        0.0|       0|           0|            0|       null|        null|\n",
      "| 1500|2021|    1| 31|   2|    45|    33|          0|        165|   2|Northbound 2|           0|            null|    2|      CAR|   3.9|   17.0| 16.62| 86.0|   0.0|        0.0|       0|           0|            0|       null|        null|\n",
      "| 1500|2021|    1| 31|   2|    45|    41|          0|        165|   4|Northbound 4|           0|            null|    2|      CAR|   3.9|    0.0|   0.0| 94.0|   0.0|        0.0|       0|           0|            0|       null|        null|\n",
      "| 1500|2021|    1| 31|   2|    45|    46|          0|        165|   1|Northbound 1|           0|            null|    3|      LGV|   5.9|  167.9|167.71| 89.0|   0.0|        0.0|       0|           0|            0|       null|        null|\n",
      "| 1500|2021|    1| 31|   2|    46|    13|          0|        166|   5|Northbound 5|           0|            null|    2|      CAR|   4.5|  135.9|135.69| 91.0|   0.0|        0.0|       0|           0|            0|       null|        null|\n",
      "| 1500|2021|    1| 31|   2|    46|    14|          0|        166|   1|Northbound 1|           0|            null|    2|      CAR|   4.1|   27.5| 27.26| 97.0|   0.0|        0.0|       0|           0|            0|       null|        null|\n",
      "| 1500|2021|    1| 31|   2|    46|    14|          0|        166|   8|Southbound 3|           0|            null|    2|      CAR|   4.3|  227.7|227.54| 85.0|   0.0|        0.0|       0|           0|            0|       null|        null|\n",
      "| 1500|2021|    1| 31|   2|    46|    21|          0|        166|   1|Northbound 1|           0|            null|    2|      CAR|   4.1|    7.5|  7.35| 89.0|   0.0|        0.0|       0|           0|            0|       null|        null|\n",
      "| 1500|2021|    1| 31|   2|    46|    44|          0|        166|   8|Southbound 3|           0|            null|    2|      CAR|   4.3|   29.9| 29.72| 83.0|   0.0|        0.0|       0|           0|            0|       null|        null|\n",
      "| 1500|2021|    1| 31|   2|    47|     6|          0|        167|   8|Southbound 3|           0|            null|    2|      CAR|   3.5|   22.2| 22.01|105.0|   0.0|        0.0|       0|           0|            0|       null|        null|\n",
      "| 1500|2021|    1| 31|   2|    47|    22|          0|        167|   2|Northbound 2|           0|            null|    6|  HGV_ART|  18.9|  109.0|108.84| 90.0|   0.0|        0.0|       0|           0|            0|       null|        null|\n",
      "| 1500|2021|    1| 31|   2|    47|    46|          0|        167|   8|Southbound 3|           0|            null|    2|      CAR|   4.0|   39.9| 39.78| 97.0|   0.0|        0.0|       0|           0|            0|       null|        null|\n",
      "| 1500|2021|    1| 31|   2|    49|     7|          0|        169|   2|Northbound 2|           0|            null|    3|      LGV|   6.4|  105.7|104.94|119.0|   0.0|        0.0|       0|           0|            0|       null|        null|\n",
      "| 1500|2021|    1| 31|   2|    49|    36|          0|        169|   2|Northbound 2|           0|            null|    5|  HGV_RIG|  11.9|   28.4| 28.21| 94.0|   0.0|        0.0|       0|           0|            0|       null|        null|\n",
      "| 1500|2021|    1| 31|   2|    50|     7|          0|        170|   1|Northbound 1|           0|            null|    2|      CAR|   4.4|  226.1|225.93| 85.0|   0.0|        0.0|       0|           0|            0|       null|        null|\n",
      "| 1500|2021|    1| 31|   2|    50|    17|          0|        170|   2|Northbound 2|           0|            null|    2|      CAR|   4.2|   41.7| 41.24| 74.0|   0.0|        0.0|       0|           0|            0|       null|        null|\n",
      "| 1500|2021|    1| 31|   2|    50|    17|          0|        170|   6|Southbound 1|           0|            null|    2|      CAR|   4.6|  459.7|459.51| 83.0|   0.0|        0.0|       0|           0|            0|       null|        null|\n",
      "| 1500|2021|    1| 31|   2|    50|    18|          0|        170|   6|Southbound 1|           0|            null|    3|      LGV|   5.0|   2.16|   1.7| 81.0|   0.0|        0.0|       0|           0|            0|       null|        null|\n",
      "| 1500|2021|    1| 31|   2|    50|    21|          0|        170|   6|Southbound 1|           0|            null|    6|  HGV_ART|  16.1|   2.81|  2.08| 71.0|   0.0|        0.0|       0|           0|            0|       null|        null|\n",
      "+-----+----+-----+---+----+------+------+-----------+-----------+----+------------+------------+----------------+-----+---------+------+-------+------+-----+------+-----------+--------+------------+-------------+-----------+------------+\n",
      "only showing top 20 rows\n",
      "\n"
     ]
    }
   ],
   "source": [
    "m50cositdf.show()"
   ]
  },
  {
   "cell_type": "code",
   "execution_count": 28,
   "metadata": {},
   "outputs": [
    {
     "data": {
      "text/plain": [
       "181582"
      ]
     },
     "execution_count": 28,
     "metadata": {},
     "output_type": "execute_result"
    }
   ],
   "source": [
    "m50cositdf.select(\"cosit\").count()"
   ]
  },
  {
   "cell_type": "markdown",
   "metadata": {},
   "source": [
    "#### Calculating the usage of Irish road network in terms of percentage by vehicle category"
   ]
  },
  {
   "cell_type": "code",
   "execution_count": 30,
   "metadata": {},
   "outputs": [],
   "source": [
    "from pyspark.sql import Row\n",
    "from pyspark.sql import SparkSession\n",
    "import pyspark.sql.functions as F\n",
    "from pyspark.sql.types import *\n",
    "from pyspark.sql.functions import col"
   ]
  },
  {
   "cell_type": "code",
   "execution_count": 106,
   "metadata": {},
   "outputs": [
    {
     "name": "stdout",
     "output_type": "stream",
     "text": [
      "+---------+------+----------+\n",
      "|classname| count|percentage|\n",
      "+---------+------+----------+\n",
      "|      CAR|154927|    85.321|\n",
      "|  HGV_ART|  5460|     3.007|\n",
      "|      BUS|  1107|      0.61|\n",
      "|  HGV_RIG|  1262|     0.695|\n",
      "|     null|     0|       0.0|\n",
      "|  CARAVAN|   610|     0.336|\n",
      "|      LGV| 17860|     9.836|\n",
      "|    MBIKE|   355|     0.196|\n",
      "+---------+------+----------+\n",
      "\n"
     ]
    }
   ],
   "source": [
    "m50cositdf.groupby('classname').agg(\n",
    "    (F.count('classname')).alias('count'),\n",
    "    (F.round(F.count('classname') / m50cositdf.count() * 100,3)).alias('percentage')\n",
    ").show()"
   ]
  },
  {
   "cell_type": "markdown",
   "metadata": {},
   "source": [
    "From the above query we can find the usage of irish road network by each vehicle class. From the result we can observe that classname CAR has the highest uasge with percentage of 85.321"
   ]
  },
  {
   "cell_type": "markdown",
   "metadata": {},
   "source": [
    "#### Calculating the highest and lowest hourly fows on M50 - show the hours and total number of vehicle counts."
   ]
  },
  {
   "cell_type": "code",
   "execution_count": 42,
   "metadata": {},
   "outputs": [
    {
     "name": "stdout",
     "output_type": "stream",
     "text": [
      "+----+-----+\n",
      "|hour|count|\n",
      "+----+-----+\n",
      "|  15|17211|\n",
      "|  16|16575|\n",
      "|  14|16373|\n",
      "|  13|15784|\n",
      "|  17|14742|\n",
      "|  12|11768|\n",
      "|  18|11503|\n",
      "|  11|10943|\n",
      "|  19| 9769|\n",
      "|  20| 9437|\n",
      "|  10| 8310|\n",
      "|  21| 6426|\n",
      "|   9| 6055|\n",
      "|   7| 5720|\n",
      "|   8| 4922|\n",
      "|   6| 3483|\n",
      "|  22| 3389|\n",
      "|  23| 2664|\n",
      "|   0| 1844|\n",
      "|   5| 1288|\n",
      "|   1| 1187|\n",
      "|   2|  891|\n",
      "|   4|  788|\n",
      "|   3|  510|\n",
      "+----+-----+\n",
      "\n"
     ]
    }
   ],
   "source": [
    "m50cositdf.select(\"hour\").groupBy(\"hour\").count().sort(\"count\", ascending=False).show(24)"
   ]
  },
  {
   "cell_type": "markdown",
   "metadata": {},
   "source": [
    "The above query gives the count of vehicles per hour, we can observe that hours 13 -17 has highest uage, while hours 1 - 5 has least uasge"
   ]
  },
  {
   "cell_type": "markdown",
   "metadata": {},
   "source": [
    "#### Calculating the evening and morning rush hours on M50 - show the hours and the total counts"
   ]
  },
  {
   "cell_type": "code",
   "execution_count": 43,
   "metadata": {},
   "outputs": [],
   "source": [
    "morning_hours = [9,10,11]\n",
    "evening_hours = [20,21,22]"
   ]
  },
  {
   "cell_type": "code",
   "execution_count": 47,
   "metadata": {},
   "outputs": [
    {
     "name": "stdout",
     "output_type": "stream",
     "text": [
      "+-------------------------------+-----+\n",
      "|Morning rush hours between 9-12|count|\n",
      "+-------------------------------+-----+\n",
      "|                             11|10943|\n",
      "|                             10| 8310|\n",
      "|                              9| 6055|\n",
      "+-------------------------------+-----+\n",
      "\n"
     ]
    }
   ],
   "source": [
    "m50cositdf.where(m50cositdf.hour.isin(morning_hours)).select(m50cositdf.hour.alias(\"Morning rush hours between 9-12\")).groupBy(\"Morning rush hours between 9-12\").count().sort(\"Morning rush hours between 9-12\", ascending= False).show()"
   ]
  },
  {
   "cell_type": "markdown",
   "metadata": {},
   "source": [
    "The above query identifies the morning rush hours and the count of vehicles per that hour. We can observe that morning rush hours are between 9 -12"
   ]
  },
  {
   "cell_type": "code",
   "execution_count": 49,
   "metadata": {},
   "outputs": [
    {
     "name": "stdout",
     "output_type": "stream",
     "text": [
      "+--------------------------------+-----+\n",
      "|Evening rush hours between 20-22|count|\n",
      "+--------------------------------+-----+\n",
      "|                              22| 3389|\n",
      "|                              21| 6426|\n",
      "|                              20| 9437|\n",
      "+--------------------------------+-----+\n",
      "\n"
     ]
    }
   ],
   "source": [
    "m50cositdf.where(m50cositdf.hour.isin(evening_hours)).select(m50cositdf.hour.alias(\"Evening rush hours between 20-22\")).groupBy(\"Evening rush hours between 20-22\").count().sort(\"Evening rush hours between 20-22\", ascending= False).show()"
   ]
  },
  {
   "cell_type": "markdown",
   "metadata": {},
   "source": [
    "The above query identifies the Evening rush hours and the count of vehicles per that hour. We can observe that evening rush hours are between 20 -22"
   ]
  },
  {
   "cell_type": "markdown",
   "metadata": {},
   "source": [
    "#### Calculating the average speed between each junctions on M50\n"
   ]
  },
  {
   "cell_type": "code",
   "execution_count": 75,
   "metadata": {},
   "outputs": [
    {
     "name": "stdout",
     "output_type": "stream",
     "text": [
      "+-----+------------------+\n",
      "|cosit|     average_speed|\n",
      "+-----+------------------+\n",
      "| 1507|102.74182687085913|\n",
      "| 1500| 93.74959897337183|\n",
      "| 1506|102.79217719132893|\n",
      "| 1505| 99.69152287044645|\n",
      "| 1504|101.99216139028985|\n",
      "|15010| 105.0165992764418|\n",
      "|15012|105.10443959243086|\n",
      "| 1509| 98.35261039422281|\n",
      "| 1502|102.36304050088046|\n",
      "|15011|101.79879709487064|\n",
      "| 1501|101.33084897730457|\n",
      "| 1503|102.18442775736273|\n",
      "| 1508| 98.64505637467477|\n",
      "+-----+------------------+\n",
      "\n"
     ]
    }
   ],
   "source": [
    "m50cositdf.filter(col(\"cosit\").isin(cositlist)).select(col(\"cosit\"),col(\"speed\")).groupBy(\"cosit\").agg(F.avg(\"speed\").alias(\"average_speed\")).show()\n"
   ]
  },
  {
   "cell_type": "markdown",
   "metadata": {},
   "source": [
    "The above the query gives the average vehicle speed recorded at each counter."
   ]
  },
  {
   "cell_type": "code",
   "execution_count": 100,
   "metadata": {},
   "outputs": [
    {
     "name": "stdout",
     "output_type": "stream",
     "text": [
      "+-----+-------------+--------------+\n",
      "|cosit|Average Speed|     Junctions|\n",
      "+-----+-------------+--------------+\n",
      "| 1505|        100.0|Junction 11-12|\n",
      "| 1508|         99.0|  Junction 6-7|\n",
      "| 1501|        101.0|  Junction 4-5|\n",
      "| 1504|        102.0|Junction 10-11|\n",
      "|15010|        105.0|Junction 14-15|\n",
      "| 1506|        103.0|Junction 12-13|\n",
      "| 1507|        103.0|Junction 13-14|\n",
      "| 1509|         98.0| Junction 9-10|\n",
      "| 1500|         94.0|  Junction 3-4|\n",
      "| 1502|        102.0|  Junction 5-6|\n",
      "| 1503|        102.0|  Junction 7-9|\n",
      "|15011|        102.0|Junction 15-16|\n",
      "|15012|        105.0|Junction 16-17|\n",
      "+-----+-------------+--------------+\n",
      "\n"
     ]
    }
   ],
   "source": [
    "junctionlist =[(\"Junction 3-4\", 1500),(\"Junction 4-5\", 1501),(\"Junction 5-6\", 1502),(\"Junction 6-7\",1508),(\"Junction 7-9\",1503),(\"Junction 9-10\",1509),(\"Junction 10-11\",1504),(\"Junction 11-12\",1505),(\"Junction 12-13\",1506),(\"Junction 13-14\",1507),(\"Junction 14-15\",15010),(\"Junction 15-16\",15011),(\"Junction 16-17\",15012)]\n",
    "jun= sc.parallelize(junctionlist).collect()\n",
    "juncdataf=spark.createDataFrame(jun, [\"Junctions\",\"cosits\"])\n",
    "m50=m50cositdf.filter(col(\"cosit\").isin(cositlist)).select(col(\"cosit\"),col(\"speed\")).groupBy(\"cosit\").agg(F.round(F.avg(\"speed\"),0).alias(\"Average Speed\"))\n",
    "Finaldf=m50.alias('a').join(juncdataf.alias('b'),col('a.cosit') == col('b.cosits'))\n",
    "\n",
    "Finaldata = Finaldf.drop(\"cosits\")\n",
    "Finaldata.show()"
   ]
  },
  {
   "cell_type": "markdown",
   "metadata": {},
   "source": [
    "This is a refined output for this question, I have added the  junction numbers at which the respective counter is located and the percentage is rounded to 1 decimal."
   ]
  },
  {
   "cell_type": "markdown",
   "metadata": {},
   "source": [
    "#### Calculating the top 10 locations with highest number of counts of HGVs(class)and Mapping  the COSITs with their names given on the map"
   ]
  },
  {
   "cell_type": "code",
   "execution_count": 74,
   "metadata": {},
   "outputs": [
    {
     "name": "stdout",
     "output_type": "stream",
     "text": [
      "+---------------+------+\n",
      "|       location|cosits|\n",
      "+---------------+------+\n",
      "|TMU M50 001.7 N|  1500|\n",
      "|TMU M50 005.0 N|  1501|\n",
      "|TMU M50 010.0 N|  1502|\n",
      "|TMU M50 015.0 S|  1508|\n",
      "|TMU M50 020.0 N|  1503|\n",
      "|TMU M50 015.0 N|  1509|\n",
      "|TMU M50 025.0 S|  1504|\n",
      "|TMU M50 025.0 N|  1505|\n",
      "|TMU M50 030.0 S|  1506|\n",
      "|TMU M50 035.0 S|  1507|\n",
      "|TMU M50 040.0 S| 15010|\n",
      "|TMU M50 035.0 N| 15011|\n",
      "|TMU M50 040.0 N| 15012|\n",
      "+---------------+------+\n",
      "\n"
     ]
    }
   ],
   "source": [
    "locationlist =[(\"TMU M50 001.7 N\", 1500),(\"TMU M50 005.0 N\", 1501),(\"TMU M50 010.0 N\", 1502),(\"TMU M50 015.0 S\",1508),(\"TMU M50 020.0 N\",1503),(\"TMU M50 015.0 N\",1509),(\"TMU M50 025.0 S\",1504),(\"TMU M50 025.0 N\",1505),(\"TMU M50 030.0 S\",1506),(\"TMU M50 035.0 S\",1507),(\"TMU M50 040.0 S\",15010),(\"TMU M50 035.0 N\",15011),(\"TMU M50 040.0 N\",15012)]\n",
    "nm= sc.parallelize(locationlist).collect()\n",
    "dataf=spark.createDataFrame(nm, [\"location\",\"cosits\"])\n",
    "dataf.show()"
   ]
  },
  {
   "cell_type": "markdown",
   "metadata": {},
   "source": [
    "I have a created a list of location names and its cosits and converted it to a dataframe "
   ]
  },
  {
   "cell_type": "code",
   "execution_count": 108,
   "metadata": {},
   "outputs": [],
   "source": [
    "df=m50cositdf.select(m50cositdf.cosit,m50cositdf.classname)\n"
   ]
  },
  {
   "cell_type": "code",
   "execution_count": 83,
   "metadata": {},
   "outputs": [
    {
     "name": "stdout",
     "output_type": "stream",
     "text": [
      "+-----+---------------+-----+\n",
      "|cosit|       location|count|\n",
      "+-----+---------------+-----+\n",
      "| 1508|TMU M50 015.0 S| 1224|\n",
      "| 1502|TMU M50 010.0 N| 1186|\n",
      "| 1503|TMU M50 020.0 N|  962|\n",
      "| 1501|TMU M50 005.0 N|  923|\n",
      "| 1500|TMU M50 001.7 N|  663|\n",
      "| 1509|TMU M50 015.0 N|  375|\n",
      "| 1504|TMU M50 025.0 S|  291|\n",
      "| 1505|TMU M50 025.0 N|  218|\n",
      "| 1506|TMU M50 030.0 S|  217|\n",
      "|15010|TMU M50 040.0 S|  189|\n",
      "+-----+---------------+-----+\n",
      "only showing top 10 rows\n",
      "\n"
     ]
    }
   ],
   "source": [
    "mergeddf=df.alias('a').join(dataf.alias('b'),col('a.cosit') == col('b.cosits'))\n",
    "\n",
    "mergeddf1 = mergeddf.drop(\"cosits\")\n",
    "\n",
    "qw=[\"HGV_RIG\",\"HGV_ART\"]\n",
    "mergeddf1.select(mergeddf1.cosit,mergeddf1.classname,mergeddf1.location).filter(mergeddf1.classname.isin(qw)).groupby(\"cosit\",\"location\").count().sort(\"count\", ascending =False).show(10)"
   ]
  },
  {
   "cell_type": "markdown",
   "metadata": {},
   "source": [
    "I have joined the two dataframes to the get the location name next to the cosit, The above query gives the top 10 locations and its cosits with highest counts of vehicles."
   ]
  }
 ],
 "metadata": {
  "kernelspec": {
   "display_name": "Python 3",
   "language": "python",
   "name": "python3"
  },
  "language_info": {
   "codemirror_mode": {
    "name": "ipython",
    "version": 3
   },
   "file_extension": ".py",
   "mimetype": "text/x-python",
   "name": "python",
   "nbconvert_exporter": "python",
   "pygments_lexer": "ipython3",
   "version": "3.8.5"
  }
 },
 "nbformat": 4,
 "nbformat_minor": 5
}
